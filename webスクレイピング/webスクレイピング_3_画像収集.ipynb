{
 "cells": [
  {
   "cell_type": "markdown",
   "metadata": {},
   "source": [
    "# 画像収集を行う\n",
    "\n",
    "webサイトに埋め込まれている画像ファイルを取得する"
   ]
  }
 ],
 "metadata": {
  "kernelspec": {
   "display_name": "Python 3.9.12 ('py39')",
   "language": "python",
   "name": "python3"
  },
  "language_info": {
   "name": "python",
   "version": "3.9.12"
  },
  "orig_nbformat": 4,
  "vscode": {
   "interpreter": {
    "hash": "7b8962a08cae10d2248ee8f34e2e3a08809a6e6db35a0271709eaf8a3e4fd1bd"
   }
  }
 },
 "nbformat": 4,
 "nbformat_minor": 2
}
