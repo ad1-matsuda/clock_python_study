{
 "cells": [
  {
   "cell_type": "markdown",
   "metadata": {},
   "source": [
    "# webスクレイピングの解説\n",
    "\n",
    "## 参考\n",
    "\n",
    "https://scraping-for-beginner.readthedocs.io/ja/latest/src/0.html\n",
    "\n",
    "## 環境構築\n",
    "\n",
    "### jupyter notebookのインストール\n",
    "ターミナルで`python -m pip install notebook`を実行する。\n",
    "\n",
    "### Seleniumとpillowのインストール\n",
    "`python -m pip install selenium pillow` とターミナル等で入力し必要なライブラリをインストールする。\n",
    "\n",
    "※jupyter notebook上では下記のコードを実行しても同じ"
   ]
  },
  {
   "cell_type": "code",
   "execution_count": 2,
   "metadata": {},
   "outputs": [
    {
     "name": "stdout",
     "output_type": "stream",
     "text": [
      "Requirement already satisfied: selenium in c:\\users\\ad-matsuda\\anaconda3\\lib\\site-packages (4.2.0)\n",
      "Requirement already satisfied: pillow in c:\\users\\ad-matsuda\\anaconda3\\lib\\site-packages (8.4.0)\n",
      "Requirement already satisfied: trio~=0.17 in c:\\users\\ad-matsuda\\anaconda3\\lib\\site-packages (from selenium) (0.21.0)\n",
      "Requirement already satisfied: urllib3[secure,socks]~=1.26 in c:\\users\\ad-matsuda\\anaconda3\\lib\\site-packages (from selenium) (1.26.7)\n",
      "Requirement already satisfied: trio-websocket~=0.9 in c:\\users\\ad-matsuda\\anaconda3\\lib\\site-packages (from selenium) (0.9.2)\n",
      "Requirement already satisfied: outcome in c:\\users\\ad-matsuda\\anaconda3\\lib\\site-packages (from trio~=0.17->selenium) (1.2.0)\n",
      "Requirement already satisfied: sortedcontainers in c:\\users\\ad-matsuda\\anaconda3\\lib\\site-packages (from trio~=0.17->selenium) (2.4.0)\n",
      "Requirement already satisfied: idna in c:\\users\\ad-matsuda\\anaconda3\\lib\\site-packages (from trio~=0.17->selenium) (3.2)\n",
      "Requirement already satisfied: cffi>=1.14 in c:\\users\\ad-matsuda\\anaconda3\\lib\\site-packages (from trio~=0.17->selenium) (1.14.6)\n",
      "Requirement already satisfied: async-generator>=1.9 in c:\\users\\ad-matsuda\\anaconda3\\lib\\site-packages (from trio~=0.17->selenium) (1.10)\n",
      "Requirement already satisfied: sniffio in c:\\users\\ad-matsuda\\anaconda3\\lib\\site-packages (from trio~=0.17->selenium) (1.2.0)\n",
      "Requirement already satisfied: attrs>=19.2.0 in c:\\users\\ad-matsuda\\anaconda3\\lib\\site-packages (from trio~=0.17->selenium) (21.2.0)\n",
      "Requirement already satisfied: pycparser in c:\\users\\ad-matsuda\\anaconda3\\lib\\site-packages (from cffi>=1.14->trio~=0.17->selenium) (2.20)\n",
      "Requirement already satisfied: wsproto>=0.14 in c:\\users\\ad-matsuda\\anaconda3\\lib\\site-packages (from trio-websocket~=0.9->selenium) (1.1.0)\n",
      "Requirement already satisfied: pyOpenSSL>=0.14 in c:\\users\\ad-matsuda\\anaconda3\\lib\\site-packages (from urllib3[secure,socks]~=1.26->selenium) (21.0.0)\n",
      "Requirement already satisfied: cryptography>=1.3.4 in c:\\users\\ad-matsuda\\anaconda3\\lib\\site-packages (from urllib3[secure,socks]~=1.26->selenium) (3.4.8)\n",
      "Requirement already satisfied: certifi in c:\\users\\ad-matsuda\\anaconda3\\lib\\site-packages (from urllib3[secure,socks]~=1.26->selenium) (2021.10.8)\n",
      "Requirement already satisfied: PySocks!=1.5.7,<2.0,>=1.5.6 in c:\\users\\ad-matsuda\\anaconda3\\lib\\site-packages (from urllib3[secure,socks]~=1.26->selenium) (1.7.1)\n",
      "Requirement already satisfied: six>=1.5.2 in c:\\users\\ad-matsuda\\anaconda3\\lib\\site-packages (from pyOpenSSL>=0.14->urllib3[secure,socks]~=1.26->selenium) (1.16.0)\n",
      "Requirement already satisfied: h11<1,>=0.9.0 in c:\\users\\ad-matsuda\\anaconda3\\lib\\site-packages (from wsproto>=0.14->trio-websocket~=0.9->selenium) (0.13.0)\n",
      "Note: you may need to restart the kernel to use updated packages.\n"
     ]
    }
   ],
   "source": [
    "%pip install selenium pillow"
   ]
  },
  {
   "cell_type": "markdown",
   "metadata": {},
   "source": [
    "\n",
    "### ChromeDriverのダウンロード\n",
    "\n",
    "https://chromedriver.storage.googleapis.com/102.0.5005.61/chromedriver_win32.zip  \n",
    "上記のリンクからChromeDriverをダウンロード、解凍後、`chromedriver.exe`をこのファイルと同じ階層に置く。  \n",
    "\n",
    "※Chromeのバージョンが違う場合、[こちら](https://sites.google.com/chromium.org/driver/downloads?authuser=0)から合うバージョンを探す  \n",
    "\n",
    "下記から実際のコードを記述していく。"
   ]
  },
  {
   "cell_type": "code",
   "execution_count": 1,
   "metadata": {},
   "outputs": [],
   "source": [
    "# 必要なライブラリのimport\n",
    "import selenium\n",
    "from selenium import webdriver"
   ]
  },
  {
   "cell_type": "markdown",
   "metadata": {},
   "source": [
    "以下のコード実行時、エラーが出る場合はchromedriver.exeがこのファイルと同階層にあることをもう一度確認する。  \n",
    "問題なければchromeが自動起動する。(そのブラウザは開けたままにしておく。)"
   ]
  },
  {
   "cell_type": "code",
   "execution_count": 5,
   "metadata": {},
   "outputs": [],
   "source": [
    "# pythonからChromeを自動で立ち上げ\n",
    "browser=webdriver.Chrome()"
   ]
  },
  {
   "cell_type": "code",
   "execution_count": 4,
   "metadata": {},
   "outputs": [],
   "source": [
    "# 起動したブラウザでgoogleにアクセス\n",
    "browser.get('http://google.com/')"
   ]
  },
  {
   "cell_type": "code",
   "execution_count": 6,
   "metadata": {},
   "outputs": [],
   "source": [
    "#ブラウザを閉じる\n",
    "browser.quit()"
   ]
  },
  {
   "cell_type": "markdown",
   "metadata": {},
   "source": [
    "# seleniumを使ったブラウザ操作の方法\n",
    "ログインページで、ユーザーネームとパスワードの入力、ログインボタンのクリックまでを自動で行う。"
   ]
  },
  {
   "cell_type": "code",
   "execution_count": null,
   "metadata": {},
   "outputs": [],
   "source": [
    "# ユーザー名の入力\n",
    "# 要素(element)を指定\n",
    "elem_username = browser.find_element_by_id('username')\n",
    "\n",
    "# 文字を入力\n",
    "elem_username.send_keys('imanishi')"
   ]
  },
  {
   "cell_type": "markdown",
   "metadata": {},
   "source": [
    "【問題】パスワード入力欄に「kohei」と入力するには？"
   ]
  },
  {
   "cell_type": "code",
   "execution_count": null,
   "metadata": {},
   "outputs": [],
   "source": [
    "# パスワードを入力のコード"
   ]
  },
  {
   "cell_type": "code",
   "execution_count": null,
   "metadata": {},
   "outputs": [],
   "source": [
    "# ボタンのクリック\n",
    "elem_login_btn = browser.find_element_by_id('login-btn')\n",
    "elem_login_btn.click()"
   ]
  }
 ],
 "metadata": {
  "kernelspec": {
   "display_name": "Python 3 (ipykernel)",
   "language": "python",
   "name": "python3"
  },
  "language_info": {
   "codemirror_mode": {
    "name": "ipython",
    "version": 3
   },
   "file_extension": ".py",
   "mimetype": "text/x-python",
   "name": "python",
   "nbconvert_exporter": "python",
   "pygments_lexer": "ipython3",
   "version": "3.9.12"
  },
  "vscode": {
   "interpreter": {
    "hash": "7b8962a08cae10d2248ee8f34e2e3a08809a6e6db35a0271709eaf8a3e4fd1bd"
   }
  }
 },
 "nbformat": 4,
 "nbformat_minor": 2
}
